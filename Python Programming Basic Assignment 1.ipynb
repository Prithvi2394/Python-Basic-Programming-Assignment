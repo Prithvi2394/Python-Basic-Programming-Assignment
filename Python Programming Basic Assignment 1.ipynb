{
 "cells": [
  {
   "cell_type": "code",
   "execution_count": 2,
   "metadata": {},
   "outputs": [
    {
     "name": "stdout",
     "output_type": "stream",
     "text": [
      "Hello Python\n"
     ]
    }
   ],
   "source": [
    "### Write a Python program to print \"Hello Python\"?\n",
    "\n",
    "print(\"Hello Python\")"
   ]
  },
  {
   "cell_type": "code",
   "execution_count": 12,
   "metadata": {},
   "outputs": [
    {
     "name": "stdout",
     "output_type": "stream",
     "text": [
      "Enter a number4\n",
      "Enter another number5\n",
      "Additon is 9\n",
      "Division is 0.8\n"
     ]
    }
   ],
   "source": [
    "### Write a Python program to do arithmetical operations addition and division?\n",
    "\n",
    "a = int(input('Enter a number'))\n",
    "b = int(input('Enter another number'))\n",
    "# Addition\n",
    "Addition = a + b\n",
    "\n",
    "# Division\n",
    "Division = a / b\n",
    "\n",
    "print('Additon is', Addition)\n",
    "print('Division is', Division)"
   ]
  },
  {
   "cell_type": "code",
   "execution_count": 2,
   "metadata": {},
   "outputs": [
    {
     "name": "stdout",
     "output_type": "stream",
     "text": [
      "Enter the lenght of one side of triangle3\n",
      "Enter the lenght of second side of triangle4\n",
      "Enter the lenght third side of triangle5\n",
      "The area of triangle is 6.0\n"
     ]
    }
   ],
   "source": [
    "### Write a Python program to find the area of a triangle?\n",
    "\n",
    "a = int(input('Enter the lenght of one side of triangle'))\n",
    "b = int(input('Enter the lenght of second side of triangle'))\n",
    "c = int(input('Enter the lenght third side of triangle'))\n",
    "Semi_perimeter = 's'\n",
    "\n",
    "s = (a + b + c)/2\n",
    "Area = (s*(s-a)*(s-b)*(s-c)) ** 0.5\n",
    "\n",
    "print(\"The area of triangle is\", Area)"
   ]
  },
  {
   "cell_type": "code",
   "execution_count": 5,
   "metadata": {},
   "outputs": [
    {
     "name": "stdout",
     "output_type": "stream",
     "text": [
      "Enter a number4\n",
      "Enter a number9\n",
      "After swaping value of x = 9\n",
      "After swaping value of y = 4\n"
     ]
    }
   ],
   "source": [
    "### Write a Python program to swap two variables?\n",
    "\n",
    "x = int(input('Enter a number'))\n",
    "y = int(input('Enter a number'))\n",
    "\n",
    "c = x\n",
    "\n",
    "x = y\n",
    "\n",
    "y = c\n",
    "\n",
    "print('After swaping value of x =', x)\n",
    "print('After swaping value of y =', y)"
   ]
  },
  {
   "cell_type": "code",
   "execution_count": 13,
   "metadata": {},
   "outputs": [
    {
     "name": "stdout",
     "output_type": "stream",
     "text": [
      "0.5895940186235178\n",
      "0.33593598652230205\n",
      "0.3787203405540548\n",
      "0.6393414909815861\n",
      "0.4649380425561148\n",
      "0.13733170152943075\n",
      "0.06060902882364427\n",
      "0.9550702314803948\n",
      "0.5164584426575969\n",
      "0.6461176634027551\n"
     ]
    }
   ],
   "source": [
    "### Write a Python program to generate a random number?\n",
    "\n",
    "import random\n",
    "\n",
    "for i in range(10):\n",
    "    print(random.random())"
   ]
  },
  {
   "cell_type": "code",
   "execution_count": null,
   "metadata": {},
   "outputs": [],
   "source": []
  }
 ],
 "metadata": {
  "kernelspec": {
   "display_name": "Python 3",
   "language": "python",
   "name": "python3"
  }
 },
 "nbformat": 4,
 "nbformat_minor": 4
}
