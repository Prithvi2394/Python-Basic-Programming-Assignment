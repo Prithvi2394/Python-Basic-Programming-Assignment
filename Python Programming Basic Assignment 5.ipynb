{
 "cells": [
  {
   "cell_type": "code",
   "execution_count": 12,
   "metadata": {},
   "outputs": [
    {
     "name": "stdout",
     "output_type": "stream",
     "text": [
      "Enter first Number: 26\n",
      "Enter second Number: 36\n",
      "LCM of 26 and 36 is 468\n"
     ]
    }
   ],
   "source": [
    "### Write a Python Program to Find LCM?\n",
    "\n",
    "a = int(input('Enter first Number: '))\n",
    "b = int(input(\"Enter second Number: \"))\n",
    "\n",
    "maximum = max(a,b)\n",
    "value = maximum\n",
    "while(True):\n",
    "    if(maximum % a == 0 and maximum % b == 0):\n",
    "        break\n",
    "    else:\n",
    "        maximum = maximum + value\n",
    "print('LCM of',a, 'and',b,'is',maximum)"
   ]
  },
  {
   "cell_type": "code",
   "execution_count": 4,
   "metadata": {},
   "outputs": [
    {
     "name": "stdout",
     "output_type": "stream",
     "text": [
      "Enter the first number\n",
      "64\n",
      "Enter the second number\n",
      "36\n",
      "The Highest Common Factor is  4\n"
     ]
    }
   ],
   "source": [
    "### Write a Python Program to Find HCF\n",
    "\n",
    "def hcf(a , b):\n",
    "    if b == 0:\n",
    "        return a\n",
    "    else:\n",
    "        return hcf(b,a%b)\n",
    "    \n",
    "num1 = int(input(\"Enter the first number\\n\"))\n",
    "num2 = int(input(\"Enter the second number\\n\"))\n",
    "\n",
    "print(\"The Highest Common Factor is \", hcf(num1,num2))"
   ]
  },
  {
   "cell_type": "code",
   "execution_count": 1,
   "metadata": {},
   "outputs": [
    {
     "name": "stdout",
     "output_type": "stream",
     "text": [
      "Enter a decimal number: 25\n",
      "0b11001  in binary\n",
      "0o31  in octal\n",
      "0x19  in hexadecimal\n"
     ]
    }
   ],
   "source": [
    "## Write a Python Program to Convert Decimal to Binary, Octal and Hexadecimal?\n",
    "\n",
    "dec = int(input(\"Enter a decimal number: \"))\n",
    "\n",
    "print(bin(dec), \" in binary\")\n",
    "print(oct(dec), \" in octal\")\n",
    "print(hex(dec), \" in hexadecimal\")"
   ]
  },
  {
   "cell_type": "code",
   "execution_count": 5,
   "metadata": {},
   "outputs": [
    {
     "name": "stdout",
     "output_type": "stream",
     "text": [
      "Enter a character: s\n",
      "The ASCII value of sis 115\n"
     ]
    }
   ],
   "source": [
    "## Write a Python Program To Find ASCII value of a character?\\\n",
    "\n",
    "Char = input(\"Enter a character: \")\n",
    "\n",
    "print(\"The ASCII value of \" +Char+ \"is\", ord(Char))"
   ]
  },
  {
   "cell_type": "code",
   "execution_count": 3,
   "metadata": {},
   "outputs": [
    {
     "name": "stdout",
     "output_type": "stream",
     "text": [
      "Addiiton = A\n",
      "Substraction = B\n",
      "Multipication = C\n",
      "Division = D\n"
     ]
    }
   ],
   "source": [
    "## Write a Python Program to Make a Simple Calculator with 4 basic mathematical operations?\n",
    "print(\"Addiiton = A\")\n",
    "print(\"Substraction = B\")\n",
    "print(\"Multipication = C\") \n",
    "print(\"Division = D\")\n",
    "\n",
    "def math_opers(a,b):\n",
    "    choice = input(\"Enter which operation do you want? \")\n",
    "    if choice == 'A':\n",
    "        return a+b\n",
    "    elif choice == 'B':\n",
    "        return a - b\n",
    "    elif choice == 'C':\n",
    "        return a * b\n",
    "    else:\n",
    "        return a/b\n",
    "        "
   ]
  },
  {
   "cell_type": "code",
   "execution_count": 5,
   "metadata": {},
   "outputs": [
    {
     "name": "stdout",
     "output_type": "stream",
     "text": [
      "Enter which operation do you want? D\n"
     ]
    },
    {
     "data": {
      "text/plain": [
       "0.4"
      ]
     },
     "execution_count": 5,
     "metadata": {},
     "output_type": "execute_result"
    }
   ],
   "source": [
    "math_opers(2, 5)"
   ]
  },
  {
   "cell_type": "markdown",
   "metadata": {},
   "source": []
  },
  {
   "cell_type": "code",
   "execution_count": null,
   "metadata": {},
   "outputs": [],
   "source": []
  }
 ],
 "metadata": {
  "kernelspec": {
   "display_name": "Python 3",
   "language": "python",
   "name": "python3"
  }
 },
 "nbformat": 4,
 "nbformat_minor": 4
}
