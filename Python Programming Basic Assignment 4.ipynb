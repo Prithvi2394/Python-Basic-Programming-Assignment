{
 "cells": [
  {
   "cell_type": "code",
   "execution_count": 5,
   "metadata": {},
   "outputs": [
    {
     "name": "stdout",
     "output_type": "stream",
     "text": [
      "Enter a number\t25\n",
      "The factorial of 25 is 15511210043330985984000000\n"
     ]
    }
   ],
   "source": [
    "### Write a Python Program to Find the Factorial of a Number?\n",
    "\n",
    "a = int(input(\"Enter a number\\t\"))\n",
    "factorial = 1\n",
    "if a < 0:\n",
    "    print(\"Negative number has no factorial\")\n",
    "elif a == 0:\n",
    "    print(\"Factorial of 0 is 1\")\n",
    "else:\n",
    "    for i in range(1,a+1):\n",
    "        factorial = factorial * i\n",
    "    print(\"The factorial of\",i,\"is\", factorial)"
   ]
  },
  {
   "cell_type": "code",
   "execution_count": 23,
   "metadata": {},
   "outputs": [
    {
     "name": "stdout",
     "output_type": "stream",
     "text": [
      "Enter the number 19\n",
      "19 x 1 = 19\n",
      "19 x 2 = 38\n",
      "19 x 3 = 57\n",
      "19 x 4 = 76\n",
      "19 x 5 = 95\n",
      "19 x 6 = 114\n",
      "19 x 7 = 133\n",
      "19 x 8 = 152\n",
      "19 x 9 = 171\n",
      "19 x 10 = 190\n"
     ]
    }
   ],
   "source": [
    "### Write a Python Program to Display the multiplication Table?\n",
    "multi = int(input(\"Enter the number \"))\n",
    "\n",
    "i = 1\n",
    "\n",
    "while i<=10:\n",
    "    print(multi,'x',i,\"=\",multi * i)\n",
    "    i+=1"
   ]
  },
  {
   "cell_type": "code",
   "execution_count": 7,
   "metadata": {},
   "outputs": [
    {
     "name": "stdout",
     "output_type": "stream",
     "text": [
      "Enter a number\t1000\n",
      "0\n",
      "1\n",
      "1\n",
      "2\n",
      "3\n",
      "5\n",
      "8\n",
      "13\n",
      "21\n",
      "34\n",
      "55\n",
      "89\n",
      "144\n",
      "233\n",
      "377\n",
      "610\n",
      "987\n"
     ]
    }
   ],
   "source": [
    "### Write a Python Program to Print the Fibonacci sequence?\n",
    "\n",
    "n = int(input(\"Enter a number\\t\"))\n",
    "\n",
    "a = 0\n",
    "b = 1\n",
    "c = 0\n",
    "\n",
    "while c<=n:\n",
    "    print(c)\n",
    "    a = b\n",
    "    b = c\n",
    "    c = a + b"
   ]
  },
  {
   "cell_type": "code",
   "execution_count": 52,
   "metadata": {},
   "outputs": [
    {
     "name": "stdout",
     "output_type": "stream",
     "text": [
      "Enter a number to: 2\n",
      "The number is an Armstrong Number\n"
     ]
    }
   ],
   "source": [
    "### Write a Python Program to Check Armstrong Number?\n",
    "\n",
    "i = int(input(\"Enter a number to: \"))\n",
    "\n",
    "o = i\n",
    "r = 0\n",
    "n = len(str(i))\n",
    "while (i > 0):\n",
    "    digit = i % 10\n",
    "    r = r + digit**n\n",
    "    i = i // 10\n",
    "\n",
    "if o == r:\n",
    "    print(\"The number is an Armstrong Number\")\n",
    "else:\n",
    "    print(\"Not a Armstrong Number\")"
   ]
  },
  {
   "cell_type": "code",
   "execution_count": 42,
   "metadata": {},
   "outputs": [
    {
     "name": "stdout",
     "output_type": "stream",
     "text": [
      "0\n",
      "1\n",
      "2\n",
      "3\n",
      "4\n",
      "5\n",
      "6\n",
      "7\n",
      "8\n",
      "9\n",
      "153\n",
      "370\n",
      "371\n",
      "407\n"
     ]
    }
   ],
   "source": [
    "### Write a Python Program to Find Armstrong Number in an Interval?\n",
    "\n",
    "for i in range(1001):\n",
    "    o = i\n",
    "    r = 0\n",
    "    n = len(str(i))\n",
    "    while (i > 0):\n",
    "        digit = i % 10\n",
    "        r = r + digit**n\n",
    "        i = i // 10\n",
    "    if o == r:\n",
    "        print(o)\n",
    "    "
   ]
  },
  {
   "cell_type": "code",
   "execution_count": 1,
   "metadata": {},
   "outputs": [
    {
     "name": "stdout",
     "output_type": "stream",
     "text": [
      "Enter number up to which you want to sum\t4\n",
      "sum 10\n"
     ]
    }
   ],
   "source": [
    "### Write a Python Program to Find the Sum of Natural Numbers?\n",
    "\n",
    "n = int(input(\"Enter number up to which you want to sum\\t\"))\n",
    "i = 1\n",
    "s = 0\n",
    "while i <= n:\n",
    "    s = s + i\n",
    "    i = i+1\n",
    "print('sum',s)"
   ]
  },
  {
   "cell_type": "code",
   "execution_count": null,
   "metadata": {},
   "outputs": [],
   "source": []
  }
 ],
 "metadata": {
  "kernelspec": {
   "display_name": "Python 3",
   "language": "python",
   "name": "python3"
  },
  "language_info": {
   "codemirror_mode": {
    "name": "ipython",
    "version": 3
   },
   "file_extension": ".py",
   "mimetype": "text/x-python",
   "name": "python",
   "nbconvert_exporter": "python",
   "pygments_lexer": "ipython3",
   "version": "3.8.5"
  }
 },
 "nbformat": 4,
 "nbformat_minor": 4
}
